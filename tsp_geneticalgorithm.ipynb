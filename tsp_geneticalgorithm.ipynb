{
  "nbformat": 4,
  "nbformat_minor": 0,
  "metadata": {
    "colab": {
      "name": "tsp_geneticalgorithm.ipynb",
      "provenance": [],
      "collapsed_sections": []
    },
    "kernelspec": {
      "name": "python3",
      "display_name": "Python 3"
    },
    "widgets": {
      "application/vnd.jupyter.widget-state+json": {
        "5514441db3624a4689d56c3d5751fd5f": {
          "model_module": "@jupyter-widgets/controls",
          "model_name": "HBoxModel",
          "state": {
            "_view_name": "HBoxView",
            "_dom_classes": [],
            "_model_name": "HBoxModel",
            "_view_module": "@jupyter-widgets/controls",
            "_model_module_version": "1.5.0",
            "_view_count": null,
            "_view_module_version": "1.5.0",
            "box_style": "",
            "layout": "IPY_MODEL_d5f84ed76cae469c95cc004eb2c9aeea",
            "_model_module": "@jupyter-widgets/controls",
            "children": [
              "IPY_MODEL_609c25e9235844759c0115bebbad4ea7",
              "IPY_MODEL_ac71f81f4aa34ecb851b90f59558eb5d"
            ]
          }
        },
        "d5f84ed76cae469c95cc004eb2c9aeea": {
          "model_module": "@jupyter-widgets/base",
          "model_name": "LayoutModel",
          "state": {
            "_view_name": "LayoutView",
            "grid_template_rows": null,
            "right": null,
            "justify_content": null,
            "_view_module": "@jupyter-widgets/base",
            "overflow": null,
            "_model_module_version": "1.2.0",
            "_view_count": null,
            "flex_flow": null,
            "width": null,
            "min_width": null,
            "border": null,
            "align_items": null,
            "bottom": null,
            "_model_module": "@jupyter-widgets/base",
            "top": null,
            "grid_column": null,
            "overflow_y": null,
            "overflow_x": null,
            "grid_auto_flow": null,
            "grid_area": null,
            "grid_template_columns": null,
            "flex": null,
            "_model_name": "LayoutModel",
            "justify_items": null,
            "grid_row": null,
            "max_height": null,
            "align_content": null,
            "visibility": null,
            "align_self": null,
            "height": null,
            "min_height": null,
            "padding": null,
            "grid_auto_rows": null,
            "grid_gap": null,
            "max_width": null,
            "order": null,
            "_view_module_version": "1.2.0",
            "grid_template_areas": null,
            "object_position": null,
            "object_fit": null,
            "grid_auto_columns": null,
            "margin": null,
            "display": null,
            "left": null
          }
        },
        "609c25e9235844759c0115bebbad4ea7": {
          "model_module": "@jupyter-widgets/controls",
          "model_name": "FloatProgressModel",
          "state": {
            "_view_name": "ProgressView",
            "style": "IPY_MODEL_f233c07dac7f44e788f06aef3360f022",
            "_dom_classes": [],
            "description": "100%",
            "_model_name": "FloatProgressModel",
            "bar_style": "success",
            "max": 200,
            "_view_module": "@jupyter-widgets/controls",
            "_model_module_version": "1.5.0",
            "value": 200,
            "_view_count": null,
            "_view_module_version": "1.5.0",
            "orientation": "horizontal",
            "min": 0,
            "description_tooltip": null,
            "_model_module": "@jupyter-widgets/controls",
            "layout": "IPY_MODEL_b4f2a59fb1a94a22a3030c96cbdff9db"
          }
        },
        "ac71f81f4aa34ecb851b90f59558eb5d": {
          "model_module": "@jupyter-widgets/controls",
          "model_name": "HTMLModel",
          "state": {
            "_view_name": "HTMLView",
            "style": "IPY_MODEL_a09006fbe78d42b7a195396ba01115f8",
            "_dom_classes": [],
            "description": "",
            "_model_name": "HTMLModel",
            "placeholder": "​",
            "_view_module": "@jupyter-widgets/controls",
            "_model_module_version": "1.5.0",
            "value": " 200/200 [33:28&lt;00:00, 10.04s/it]",
            "_view_count": null,
            "_view_module_version": "1.5.0",
            "description_tooltip": null,
            "_model_module": "@jupyter-widgets/controls",
            "layout": "IPY_MODEL_5305e076a7fc4c34a26b79af233cc04d"
          }
        },
        "f233c07dac7f44e788f06aef3360f022": {
          "model_module": "@jupyter-widgets/controls",
          "model_name": "ProgressStyleModel",
          "state": {
            "_view_name": "StyleView",
            "_model_name": "ProgressStyleModel",
            "description_width": "initial",
            "_view_module": "@jupyter-widgets/base",
            "_model_module_version": "1.5.0",
            "_view_count": null,
            "_view_module_version": "1.2.0",
            "bar_color": null,
            "_model_module": "@jupyter-widgets/controls"
          }
        },
        "b4f2a59fb1a94a22a3030c96cbdff9db": {
          "model_module": "@jupyter-widgets/base",
          "model_name": "LayoutModel",
          "state": {
            "_view_name": "LayoutView",
            "grid_template_rows": null,
            "right": null,
            "justify_content": null,
            "_view_module": "@jupyter-widgets/base",
            "overflow": null,
            "_model_module_version": "1.2.0",
            "_view_count": null,
            "flex_flow": null,
            "width": null,
            "min_width": null,
            "border": null,
            "align_items": null,
            "bottom": null,
            "_model_module": "@jupyter-widgets/base",
            "top": null,
            "grid_column": null,
            "overflow_y": null,
            "overflow_x": null,
            "grid_auto_flow": null,
            "grid_area": null,
            "grid_template_columns": null,
            "flex": null,
            "_model_name": "LayoutModel",
            "justify_items": null,
            "grid_row": null,
            "max_height": null,
            "align_content": null,
            "visibility": null,
            "align_self": null,
            "height": null,
            "min_height": null,
            "padding": null,
            "grid_auto_rows": null,
            "grid_gap": null,
            "max_width": null,
            "order": null,
            "_view_module_version": "1.2.0",
            "grid_template_areas": null,
            "object_position": null,
            "object_fit": null,
            "grid_auto_columns": null,
            "margin": null,
            "display": null,
            "left": null
          }
        },
        "a09006fbe78d42b7a195396ba01115f8": {
          "model_module": "@jupyter-widgets/controls",
          "model_name": "DescriptionStyleModel",
          "state": {
            "_view_name": "StyleView",
            "_model_name": "DescriptionStyleModel",
            "description_width": "",
            "_view_module": "@jupyter-widgets/base",
            "_model_module_version": "1.5.0",
            "_view_count": null,
            "_view_module_version": "1.2.0",
            "_model_module": "@jupyter-widgets/controls"
          }
        },
        "5305e076a7fc4c34a26b79af233cc04d": {
          "model_module": "@jupyter-widgets/base",
          "model_name": "LayoutModel",
          "state": {
            "_view_name": "LayoutView",
            "grid_template_rows": null,
            "right": null,
            "justify_content": null,
            "_view_module": "@jupyter-widgets/base",
            "overflow": null,
            "_model_module_version": "1.2.0",
            "_view_count": null,
            "flex_flow": null,
            "width": null,
            "min_width": null,
            "border": null,
            "align_items": null,
            "bottom": null,
            "_model_module": "@jupyter-widgets/base",
            "top": null,
            "grid_column": null,
            "overflow_y": null,
            "overflow_x": null,
            "grid_auto_flow": null,
            "grid_area": null,
            "grid_template_columns": null,
            "flex": null,
            "_model_name": "LayoutModel",
            "justify_items": null,
            "grid_row": null,
            "max_height": null,
            "align_content": null,
            "visibility": null,
            "align_self": null,
            "height": null,
            "min_height": null,
            "padding": null,
            "grid_auto_rows": null,
            "grid_gap": null,
            "max_width": null,
            "order": null,
            "_view_module_version": "1.2.0",
            "grid_template_areas": null,
            "object_position": null,
            "object_fit": null,
            "grid_auto_columns": null,
            "margin": null,
            "display": null,
            "left": null
          }
        }
      }
    }
  },
  "cells": [
    {
      "cell_type": "markdown",
      "metadata": {
        "id": "cY1Tvspxvyzo"
      },
      "source": [
        "Importing necessary libraries"
      ]
    },
    {
      "cell_type": "code",
      "metadata": {
        "id": "fbSnIObv8pkb"
      },
      "source": [
        "import numpy as np \r\n",
        "from tqdm.notebook import tqdm\r\n",
        "import operator\r\n",
        "import pandas as pd\r\n",
        "import matplotlib.pyplot as plt\r\n",
        "from scipy.spatial import distance\r\n",
        "import networkx as nx\r\n"
      ],
      "execution_count": 108,
      "outputs": []
    },
    {
      "cell_type": "markdown",
      "metadata": {
        "id": "yYQq7F0lts5G"
      },
      "source": [
        "Create a Fitness function"
      ]
    },
    {
      "cell_type": "code",
      "metadata": {
        "id": "bTqLByROnn4f"
      },
      "source": [
        "class Fitness:\r\n",
        "    def __init__(self, population):\r\n",
        "        self.population = population\r\n",
        "        self.distance = []\r\n",
        "    \r\n",
        "    def routeDistance(self):\r\n",
        "        for i in range(np.shape(self.population)[0]):\r\n",
        "          pathDistance = 0\r\n",
        "          for j in range(np.shape(self.population)[1]):\r\n",
        "              pathDistance += distance.euclidean(self.population[i, j-1], self.population[i, j])\r\n",
        "          self.distance.append(pathDistance)\r\n",
        "        self.distance = np.asarray(self.distance)\r\n",
        "        return self.distance\r\n",
        "    \r\n",
        "    def routeFitness(self):\r\n",
        "        self.fitness = 1 /self.routeDistance()\r\n",
        "        return self.fitness"
      ],
      "execution_count": 41,
      "outputs": []
    },
    {
      "cell_type": "markdown",
      "metadata": {
        "id": "3GN9Jn_HuTTC"
      },
      "source": [
        "##Create our initial population"
      ]
    },
    {
      "cell_type": "markdown",
      "metadata": {
        "id": "-qFmu5wity83"
      },
      "source": [
        "Route Generator"
      ]
    },
    {
      "cell_type": "code",
      "metadata": {
        "id": "Olrp64zv8jEY"
      },
      "source": [
        "def createRoute(cityCoords):\r\n",
        "    route = cityCoords[rng.choice(np.shape(cityCoords)[0], np.shape(cityCoords)[0], 0)]\r\n",
        "    return route"
      ],
      "execution_count": 42,
      "outputs": []
    },
    {
      "cell_type": "markdown",
      "metadata": {
        "id": "k3RwejQht103"
      },
      "source": [
        "\r\n",
        "Create first \"population\" (array of routes)"
      ]
    },
    {
      "cell_type": "code",
      "metadata": {
        "id": "Rq_CjXij8xf_"
      },
      "source": [
        "def initialPopulation(popSize, cityCoords):\r\n",
        "    population = []\r\n",
        "\r\n",
        "    for i in range(0, popSize):\r\n",
        "        population.append(createRoute(cityCoords))\r\n",
        "    population = np.asarray(population)\r\n",
        "    return population"
      ],
      "execution_count": 43,
      "outputs": []
    },
    {
      "cell_type": "markdown",
      "metadata": {
        "id": "Y2kKE1lCuYYm"
      },
      "source": [
        "##Create the genetic algorithm"
      ]
    },
    {
      "cell_type": "markdown",
      "metadata": {
        "id": "jP-mx1G_uoPc"
      },
      "source": [
        "Rank the routes as per fitness"
      ]
    },
    {
      "cell_type": "code",
      "metadata": {
        "id": "5H-QMHPQ802a"
      },
      "source": [
        "def rankRoutes(population):\r\n",
        "    fitnessDict = {}\r\n",
        "    fitnessResults = Fitness(population).routeFitness()\r\n",
        "    for i in range(np.shape(fitnessResults)[0]):\r\n",
        "      fitnessDict[i] = fitnessResults[i]\r\n",
        "    return sorted(fitnessDict.items(), key = operator.itemgetter(1), reverse = True)"
      ],
      "execution_count": 44,
      "outputs": []
    },
    {
      "cell_type": "markdown",
      "metadata": {
        "id": "3sDuvTJouyPL"
      },
      "source": [
        "Create a selection function that will be used to make the array of parent routes"
      ]
    },
    {
      "cell_type": "code",
      "metadata": {
        "id": "BUupNHQS85h2"
      },
      "source": [
        "def selection(popRanked, eliteSize):\r\n",
        "    selectionResults = []\r\n",
        "    df = pd.DataFrame(np.array(popRanked), columns=[\"Index\",\"Fitness\"])\r\n",
        "    df['cum_sum'] = df.Fitness.cumsum()\r\n",
        "    df['cum_perc'] = 100*df.cum_sum/df.Fitness.sum()\r\n",
        "    \r\n",
        "    for i in range(eliteSize):\r\n",
        "        selectionResults.append(popRanked[i][0])\r\n",
        "    for i in range(len(popRanked) - eliteSize):\r\n",
        "        pick = 100*rng.random()\r\n",
        "        for i in range(len(popRanked)):\r\n",
        "            if pick <= df.iat[i,3]:\r\n",
        "                selectionResults.append(popRanked[i][0])\r\n",
        "                break\r\n",
        "    selectionResults = np.asarray(selectionResults)\r\n",
        "    return selectionResults"
      ],
      "execution_count": 45,
      "outputs": []
    },
    {
      "cell_type": "markdown",
      "metadata": {
        "id": "23n6jcEju4ls"
      },
      "source": [
        "Create mating pool"
      ]
    },
    {
      "cell_type": "code",
      "metadata": {
        "id": "r2K5dcFX86Io"
      },
      "source": [
        "def matingPool(population, selectionResults):\r\n",
        "    matingpool = population[selectionResults]\r\n",
        "    return matingpool"
      ],
      "execution_count": 46,
      "outputs": []
    },
    {
      "cell_type": "markdown",
      "metadata": {
        "id": "clA9S2feu9LL"
      },
      "source": [
        "\r\n",
        "Create a crossover function for two parents to create one child"
      ]
    },
    {
      "cell_type": "code",
      "metadata": {
        "id": "p5NwViqP88yM"
      },
      "source": [
        "def breed(parent1, parent2):\r\n",
        "    geneA = int(rng.random() * np.shape(parent1)[0])\r\n",
        "    geneB = int(rng.random() * np.shape(parent1)[0])\r\n",
        "    \r\n",
        "    startGene = min(geneA, geneB)\r\n",
        "    endGene = max(geneA, geneB)\r\n",
        "\r\n",
        "    childP1 = parent1[range(startGene, endGene)]\r\n",
        "\r\n",
        "    childP2 = np.asarray([item for item in parent2 if item not in childP1])\r\n",
        "\r\n",
        "    child = np.append(childP1, childP2, axis=0)\r\n",
        "    return child"
      ],
      "execution_count": 47,
      "outputs": []
    },
    {
      "cell_type": "markdown",
      "metadata": {
        "id": "D0AQWXvSu-2S"
      },
      "source": [
        "Create function to run crossover over full mating pool"
      ]
    },
    {
      "cell_type": "code",
      "metadata": {
        "id": "sGBjPZ7u8_S-"
      },
      "source": [
        "def breedPopulation(matingpool, eliteSize):\r\n",
        "    length = np.shape(matingpool)[0] - eliteSize\r\n",
        "    pool = matingpool[rng.choice(np.shape(matingpool)[0], np.shape(matingpool)[0], 0)]\r\n",
        "\r\n",
        "    children = matingpool[range(eliteSize)]\r\n",
        "    #print(np.shape(children))\r\n",
        "    for i in range(0, length):\r\n",
        "        child = breed(pool[i], pool[np.shape(matingpool)[0]-i-1])\r\n",
        "        #print(np.shape(child))\r\n",
        "        #print(np.shape(children))\r\n",
        "        children = np.append(children, [child], axis=0)\r\n",
        "    return children"
      ],
      "execution_count": 48,
      "outputs": []
    },
    {
      "cell_type": "markdown",
      "metadata": {
        "id": "2--n6sH9vD5G"
      },
      "source": [
        "Create function to mutate a single route"
      ]
    },
    {
      "cell_type": "code",
      "metadata": {
        "id": "LsMJrLWm9BMy"
      },
      "source": [
        "def mutate(population, mutationRate):\r\n",
        "    for swapped in range(np.shape(population)[1]):\r\n",
        "        if(rng.random() < mutationRate):\r\n",
        "            swapWith = int(rng.random() * np.shape(population)[1])\r\n",
        "\r\n",
        "            population[:, [swapped, swapWith]] = population[:, [swapWith, swapped]]\r\n",
        "\r\n",
        "    return population"
      ],
      "execution_count": 62,
      "outputs": []
    },
    {
      "cell_type": "markdown",
      "metadata": {
        "id": "IZzARI8SvHJB"
      },
      "source": [
        "Create function to run mutation over entire population"
      ]
    },
    {
      "cell_type": "code",
      "metadata": {
        "id": "5xmfS9uC9DcX"
      },
      "source": [
        "def mutatePopulation(population, mutationRate):\r\n",
        "    mutatedPop = mutate(population, mutationRate)\r\n",
        "    return mutatedPop"
      ],
      "execution_count": 50,
      "outputs": []
    },
    {
      "cell_type": "markdown",
      "metadata": {
        "id": "HBYA10kvvKlz"
      },
      "source": [
        "\r\n",
        "Put all steps together to create the next generation"
      ]
    },
    {
      "cell_type": "code",
      "metadata": {
        "id": "-g90O_T29Grj"
      },
      "source": [
        "def nextGeneration(currentGen, eliteSize, mutationRate):\r\n",
        "    popRanked = rankRoutes(currentGen)\r\n",
        "    selectionResults = selection(popRanked, eliteSize)\r\n",
        "    matingpool = matingPool(currentGen, selectionResults)\r\n",
        "    children = breedPopulation(matingpool, eliteSize)\r\n",
        "    nextGeneration = mutatePopulation(children, mutationRate)\r\n",
        "    return nextGeneration"
      ],
      "execution_count": 51,
      "outputs": []
    },
    {
      "cell_type": "markdown",
      "metadata": {
        "id": "jrMSJfJKvNzr"
      },
      "source": [
        "\r\n",
        "Final step: create the genetic algorithm"
      ]
    },
    {
      "cell_type": "code",
      "metadata": {
        "id": "E047IIusFJy3"
      },
      "source": [
        "def geneticAlgorithmPlot(population, popSize, eliteSize, mutationRate, generations):\r\n",
        "    pop = initialPopulation(popSize, population)\r\n",
        "    progress = []\r\n",
        "    progress.append(1 / rankRoutes(pop)[0][1])\r\n",
        "    \r\n",
        "    for i in tqdm(range(0, generations)):\r\n",
        "        pop = nextGeneration(pop, eliteSize, mutationRate)\r\n",
        "        progress.append(1 / rankRoutes(pop)[0][1])\r\n",
        "    print(\"Final distance: \" + str(1 / rankRoutes(pop)[0][1]))\r\n",
        "    plt.plot(progress)\r\n",
        "    plt.ylabel('Distance')\r\n",
        "    plt.xlabel('Generation')\r\n",
        "    plt.show()\r\n",
        "    finalRouteIndex = rankRoutes(pop)[0][0]\r\n",
        "    finalRoute = pop[finalRouteIndex]\r\n",
        "    return progress, finalRoute"
      ],
      "execution_count": 60,
      "outputs": []
    },
    {
      "cell_type": "markdown",
      "metadata": {
        "id": "4T3iuZJnvn6K"
      },
      "source": [
        "Coordinates taken from the Att48 dataset"
      ]
    },
    {
      "cell_type": "code",
      "metadata": {
        "id": "NOh9WeZ-9LF0"
      },
      "source": [
        "cityCoords = np.array([[6734, 1453], [2233,   10], [5530, 1424], [401,  841], [3082, 1644], [7608, 4458], [7573, 3716], [7265, 1268], [6898, 1885],\r\n",
        "[1112, 2049], [5468, 2606], [5989, 2873], [4706, 2674], [4612, 2035], [6347, 2683], [6107,  669], [7611, 5184], [7462, 3590], [7732, 4723], [5900, 3561],\r\n",
        "[4483, 3369], [6101, 1110], [5199, 2182], [1633, 2809], [4307, 2322],  [675, 1006], [7555, 4819], [7541, 3981], [3177,  756], [7352, 4506], [7545, 2801],\r\n",
        "[3245, 3305], [6426, 3173], [4608, 1198], [23, 2216], [7248, 3779], [7762, 4595], [7392, 2244], [3484, 2829], [6271, 2135], [4985,  140], [1916, 1569],\r\n",
        "[7280, 4899], [7509, 3239], [10, 2676], [6807, 2993], [5185, 3258], [3023, 1942]])"
      ],
      "execution_count": 76,
      "outputs": []
    },
    {
      "cell_type": "markdown",
      "metadata": {
        "id": "IcUxcDK_FmrB"
      },
      "source": [
        "Create a random generator with seed and run the the algorithm"
      ]
    },
    {
      "cell_type": "code",
      "metadata": {
        "colab": {
          "base_uri": "https://localhost:8080/",
          "height": 345,
          "referenced_widgets": [
            "5514441db3624a4689d56c3d5751fd5f",
            "d5f84ed76cae469c95cc004eb2c9aeea",
            "609c25e9235844759c0115bebbad4ea7",
            "ac71f81f4aa34ecb851b90f59558eb5d",
            "f233c07dac7f44e788f06aef3360f022",
            "b4f2a59fb1a94a22a3030c96cbdff9db",
            "a09006fbe78d42b7a195396ba01115f8",
            "5305e076a7fc4c34a26b79af233cc04d"
          ]
        },
        "id": "ls2eWsUaFg4s",
        "outputId": "ec3d39f9-97e0-4dd2-8120-251140692c77"
      },
      "source": [
        "rng = np.random.default_rng(2)\r\n",
        "progress, finalRoute = geneticAlgorithmPlot(population=cityCoords, popSize=150, eliteSize=20, mutationRate=0.001, generations=200)"
      ],
      "execution_count": 99,
      "outputs": [
        {
          "output_type": "display_data",
          "data": {
            "application/vnd.jupyter.widget-view+json": {
              "model_id": "5514441db3624a4689d56c3d5751fd5f",
              "version_minor": 0,
              "version_major": 2
            },
            "text/plain": [
              "HBox(children=(FloatProgress(value=0.0, max=200.0), HTML(value='')))"
            ]
          },
          "metadata": {
            "tags": []
          }
        },
        {
          "output_type": "stream",
          "text": [
            "\n",
            "Final distance: 41240.70667564267\n"
          ],
          "name": "stdout"
        },
        {
          "output_type": "display_data",
          "data": {
            "image/png": "[encoded data removed]",
            "text/plain": [
              "<Figure size 432x288 with 1 Axes>"
            ]
          },
          "metadata": {
            "tags": [],
            "needs_background": "light"
          }
        }
      ]
    },
    {
      "cell_type": "markdown",
      "metadata": {
        "id": "UgDEy7dsv6M5"
      },
      "source": [
        "Setting up a graph for visualization"
      ]
    },
    {
      "cell_type": "code",
      "metadata": {
        "colab": {
          "base_uri": "https://localhost:8080/",
          "height": 248
        },
        "id": "5MxcEIWtOArs",
        "outputId": "757f4c9a-73b8-4d05-a176-b5d0b89db653"
      },
      "source": [
        "options = {\r\n",
        "      'node_color': 'black',\r\n",
        "      'node_size': 5,\r\n",
        "      'width': 1} \r\n",
        "\r\n",
        "keys = np.arange(48)\r\n",
        "def listOfTuples(l1, l2): \r\n",
        "    return list(map(lambda x, y:(x,y), l1, l2)) \r\n",
        "dictionary_of_coordinates = dict(listOfTuples(keys, listOfTuples(finalRoute[:, 0], finalRoute[:, 1])))\r\n",
        "connections = []\r\n",
        "for i in range(48):\r\n",
        "  connections.append([i, (i+1)%48])\r\n",
        "\r\n",
        "G=nx.Graph()\r\n",
        "G.add_edges_from(connections) #define G\r\n",
        "list_of_nodes = dictionary_of_coordinates.keys()\r\n",
        "pos = nx.spring_layout(G, pos= dictionary_of_coordinates, fixed = list_of_nodes)\r\n",
        "nx.draw_networkx(G, pos, with_labels = False, **options)"
      ],
      "execution_count": 114,
      "outputs": [
        {
          "output_type": "display_data",
          "data": {
            "image/png": "[encoded data removed]",
            "text/plain": [
              "<Figure size 432x288 with 1 Axes>"
            ]
          },
          "metadata": {
            "tags": []
          }
        }
      ]
    }
  ]
}